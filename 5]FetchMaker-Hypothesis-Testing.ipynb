{
 "cells": [
  {
   "cell_type": "markdown",
   "id": "9a9be686",
   "metadata": {},
   "source": [
    "# FetchMaker\n",
    "We’ve just started working at the hottest new tech startup, FetchMaker. FetchMaker’s mission is to match up prospective dog owners with their perfect pet. FetchMaker has been collecting data on their adoptable dogs, and it’s our job to analyze some of that data."
   ]
  },
  {
   "cell_type": "code",
   "execution_count": 37,
   "id": "19646cb0",
   "metadata": {},
   "outputs": [],
   "source": [
    "import pandas as pd\n",
    "from scipy.stats import binom_test,f_oneway,chi2_contingency\n",
    "from statsmodels.stats.multicomp import pairwise_tukeyhsd\n",
    "import seaborn as sns\n",
    "from matplotlib import pyplot as plt"
   ]
  },
  {
   "cell_type": "code",
   "execution_count": 3,
   "id": "0dd5d5a9",
   "metadata": {},
   "outputs": [
    {
     "data": {
      "text/html": [
       "<div>\n",
       "<style scoped>\n",
       "    .dataframe tbody tr th:only-of-type {\n",
       "        vertical-align: middle;\n",
       "    }\n",
       "\n",
       "    .dataframe tbody tr th {\n",
       "        vertical-align: top;\n",
       "    }\n",
       "\n",
       "    .dataframe thead th {\n",
       "        text-align: right;\n",
       "    }\n",
       "</style>\n",
       "<table border=\"1\" class=\"dataframe\">\n",
       "  <thead>\n",
       "    <tr style=\"text-align: right;\">\n",
       "      <th></th>\n",
       "      <th>is_rescue</th>\n",
       "      <th>weight</th>\n",
       "      <th>tail_length</th>\n",
       "      <th>age</th>\n",
       "      <th>color</th>\n",
       "      <th>likes_children</th>\n",
       "      <th>is_hypoallergenic</th>\n",
       "      <th>name</th>\n",
       "      <th>breed</th>\n",
       "    </tr>\n",
       "  </thead>\n",
       "  <tbody>\n",
       "    <tr>\n",
       "      <th>0</th>\n",
       "      <td>0</td>\n",
       "      <td>6</td>\n",
       "      <td>2.25</td>\n",
       "      <td>2</td>\n",
       "      <td>black</td>\n",
       "      <td>1</td>\n",
       "      <td>0</td>\n",
       "      <td>Huey</td>\n",
       "      <td>chihuahua</td>\n",
       "    </tr>\n",
       "    <tr>\n",
       "      <th>1</th>\n",
       "      <td>0</td>\n",
       "      <td>4</td>\n",
       "      <td>5.36</td>\n",
       "      <td>4</td>\n",
       "      <td>black</td>\n",
       "      <td>0</td>\n",
       "      <td>0</td>\n",
       "      <td>Cherish</td>\n",
       "      <td>chihuahua</td>\n",
       "    </tr>\n",
       "    <tr>\n",
       "      <th>2</th>\n",
       "      <td>0</td>\n",
       "      <td>7</td>\n",
       "      <td>3.63</td>\n",
       "      <td>3</td>\n",
       "      <td>black</td>\n",
       "      <td>0</td>\n",
       "      <td>1</td>\n",
       "      <td>Becka</td>\n",
       "      <td>chihuahua</td>\n",
       "    </tr>\n",
       "    <tr>\n",
       "      <th>3</th>\n",
       "      <td>0</td>\n",
       "      <td>5</td>\n",
       "      <td>0.19</td>\n",
       "      <td>2</td>\n",
       "      <td>black</td>\n",
       "      <td>0</td>\n",
       "      <td>0</td>\n",
       "      <td>Addie</td>\n",
       "      <td>chihuahua</td>\n",
       "    </tr>\n",
       "    <tr>\n",
       "      <th>4</th>\n",
       "      <td>0</td>\n",
       "      <td>5</td>\n",
       "      <td>0.37</td>\n",
       "      <td>1</td>\n",
       "      <td>black</td>\n",
       "      <td>1</td>\n",
       "      <td>1</td>\n",
       "      <td>Beverlee</td>\n",
       "      <td>chihuahua</td>\n",
       "    </tr>\n",
       "  </tbody>\n",
       "</table>\n",
       "</div>"
      ],
      "text/plain": [
       "   is_rescue  weight  tail_length  age  color  likes_children  \\\n",
       "0          0       6         2.25    2  black               1   \n",
       "1          0       4         5.36    4  black               0   \n",
       "2          0       7         3.63    3  black               0   \n",
       "3          0       5         0.19    2  black               0   \n",
       "4          0       5         0.37    1  black               1   \n",
       "\n",
       "   is_hypoallergenic      name      breed  \n",
       "0                  0      Huey  chihuahua  \n",
       "1                  0   Cherish  chihuahua  \n",
       "2                  1     Becka  chihuahua  \n",
       "3                  0     Addie  chihuahua  \n",
       "4                  1  Beverlee  chihuahua  "
      ]
     },
     "execution_count": 3,
     "metadata": {},
     "output_type": "execute_result"
    }
   ],
   "source": [
    "df = pd.read_csv('dog_data.csv')\n",
    "df.head()"
   ]
  },
  {
   "cell_type": "markdown",
   "id": "4d609ed8",
   "metadata": {},
   "source": [
    "\n",
    "FetchMaker estimates (based on historical data for all dogs) that 8% of dogs in their system are rescues.\n",
    "\n",
    "They would like to know if whippets are significantly more or less likely than other dogs to be a rescue."
   ]
  },
  {
   "cell_type": "code",
   "execution_count": 31,
   "id": "55f90084",
   "metadata": {},
   "outputs": [
    {
     "name": "stdout",
     "output_type": "stream",
     "text": [
      "['chihuahua' 'greyhound' 'pitbull' 'poodle' 'rottweiler' 'shihtzu'\n",
      " 'terrier' 'whippet']\n",
      "800\n",
      "['black' 'brown' 'gold' 'grey' 'white']\n"
     ]
    }
   ],
   "source": [
    "print(df.breed.unique())\n",
    "print(len(df))\n",
    "print(df.color.unique())"
   ]
  },
  {
   "cell_type": "code",
   "execution_count": 8,
   "id": "d0d08202",
   "metadata": {},
   "outputs": [
    {
     "name": "stdout",
     "output_type": "stream",
     "text": [
      "100\n",
      "6\n"
     ]
    }
   ],
   "source": [
    "whippets = df[df.breed == 'whippet']\n",
    "print(len(whippets))\n",
    "num_whippets_rescue = whippets.is_rescue.sum()\n",
    "print(num_whippets_rescue)"
   ]
  },
  {
   "cell_type": "markdown",
   "id": "8c73fb39",
   "metadata": {},
   "source": [
    "# Hypothesis 1\n",
    "\n",
    "Null: 8% of whippets are rescues\n",
    "\n",
    "Alternative: more or less than 8% of whippets are rescues"
   ]
  },
  {
   "cell_type": "code",
   "execution_count": 11,
   "id": "d423343b",
   "metadata": {},
   "outputs": [
    {
     "name": "stdout",
     "output_type": "stream",
     "text": [
      "Binom Test 0.5811780106238098\n"
     ]
    }
   ],
   "source": [
    "pval = binom_test(6,100,0.08)\n",
    "print('Binom Test',pval)"
   ]
  },
  {
   "cell_type": "markdown",
   "id": "e60c145b",
   "metadata": {},
   "source": [
    "Using a significance threshold of 0.05, the proportion of whippets who are rescues significantly not different from 8%. Therefore our null Hypothesis is correct.\n",
    "\n",
    "# Mid-Sized Dog Weights\n",
    "\n",
    "Three of FetchMaker’s most popular mid-sized dog breeds are 'whippet's, 'terrier's, and 'pitbull's. Is there a significant difference in the average weights of these three dog breeds?"
   ]
  },
  {
   "cell_type": "code",
   "execution_count": 27,
   "id": "1a9b4c25",
   "metadata": {},
   "outputs": [],
   "source": [
    "terrier = df[df.breed == 'terrier']\n",
    "pitbull = df[df.breed == 'pitbull']\n",
    "wt_whippets = whippets.weight\n",
    "wt_terrier = terrier.weight\n",
    "wt_pitpull = pitbull.weight\n",
    "dogs_wtp = df[df.breed.isin(['whippet', 'terrier', 'pitbull'])]\n"
   ]
  },
  {
   "cell_type": "markdown",
   "id": "4f2be9f8",
   "metadata": {},
   "source": [
    "# Hypothesis 2\n",
    "\n",
    "Null: whippets, terriers, and pitbulls all weigh the same amount on average\n",
    "\n",
    "Alternative: whippets, terriers, and pitbulls do not all weigh the same amount on average (at least one pair of breeds has differing average weights)"
   ]
  },
  {
   "cell_type": "code",
   "execution_count": 40,
   "id": "6c8851b2",
   "metadata": {},
   "outputs": [
    {
     "name": "stdout",
     "output_type": "stream",
     "text": [
      "3.276415588274815e-17\n"
     ]
    },
    {
     "data": {
      "image/png": "[encoded data removed]",
      "text/plain": [
       "<Figure size 432x288 with 1 Axes>"
      ]
     },
     "metadata": {
      "needs_background": "light"
     },
     "output_type": "display_data"
    }
   ],
   "source": [
    "sns.boxplot(x= dogs_wtp.breed,y=dogs_wtp.weight)\n",
    "plt.title('Mid-Sized Dog Weights')\n",
    "fstat,pval = f_oneway(wt_whippets,wt_terrier,wt_pitpull)\n",
    "print(pval)"
   ]
  },
  {
   "cell_type": "markdown",
   "id": "3ffa2e43",
   "metadata": {},
   "source": [
    "Using a significance threshold of 0.05, whippets, terriers, and pitbulls do not all weigh the same amount on average (at least one pair of breeds has differing average weights)"
   ]
  },
  {
   "cell_type": "code",
   "execution_count": 29,
   "id": "ab199c21",
   "metadata": {},
   "outputs": [
    {
     "name": "stdout",
     "output_type": "stream",
     "text": [
      " Multiple Comparison of Means - Tukey HSD, FWER=0.05 \n",
      "=====================================================\n",
      " group1  group2 meandiff p-adj   lower  upper  reject\n",
      "-----------------------------------------------------\n",
      "pitbull terrier   -13.24  0.001 -16.728 -9.752   True\n",
      "pitbull whippet    -3.34 0.0639  -6.828  0.148  False\n",
      "terrier whippet      9.9  0.001   6.412 13.388   True\n",
      "-----------------------------------------------------\n"
     ]
    }
   ],
   "source": [
    "output = pairwise_tukeyhsd(dogs_wtp.weight, dogs_wtp.breed)\n",
    "print(output)"
   ]
  },
  {
   "cell_type": "markdown",
   "id": "14bb02cc",
   "metadata": {},
   "source": [
    "For any pair where “Reject” is “True”, we conclude that those two breeds weigh significantly different amounts.\n",
    "\n",
    "# Poodle and Shihtzu Colors\n",
    "\n",
    "FetchMaker wants to know if 'poodle's and 'shihtzu's come in different colors."
   ]
  },
  {
   "cell_type": "code",
   "execution_count": 32,
   "id": "92079193",
   "metadata": {},
   "outputs": [
    {
     "name": "stdout",
     "output_type": "stream",
     "text": [
      "color    black  brown  gold  grey  white\n",
      "breed                                   \n",
      "poodle      17     13     8    52     10\n",
      "shihtzu     10     36     6    41      7\n"
     ]
    }
   ],
   "source": [
    "dogs_ps = df[df.breed.isin(['poodle','shihtzu'])]\n",
    "crosstab = pd.crosstab(dogs_ps.breed,dogs_ps.color)\n",
    "print(crosstab)"
   ]
  },
  {
   "cell_type": "markdown",
   "id": "815e5a65",
   "metadata": {},
   "source": [
    "# Hypothesis 3\n",
    "\n",
    "Null: There is an association between breed (poodle vs. shihtzu) and color.\n",
    "\n",
    "Alternative: There is not an association between breed (poodle vs. shihtzu) and color."
   ]
  },
  {
   "cell_type": "code",
   "execution_count": 36,
   "id": "063cbca4",
   "metadata": {},
   "outputs": [
    {
     "name": "stdout",
     "output_type": "stream",
     "text": [
      "0.005302408293244597\n"
     ]
    }
   ],
   "source": [
    "chi2,pval,dof,exxpected = chi2_contingency(crosstab)\n",
    "print(pval)"
   ]
  },
  {
   "cell_type": "markdown",
   "id": "4612d180",
   "metadata": {},
   "source": [
    "Using a significance threshold of 0.05,There is not an association between breed (poodle vs. shihtzu) and color."
   ]
  }
 ],
 "metadata": {
  "kernelspec": {
   "display_name": "Python 3",
   "language": "python",
   "name": "python3"
  },
  "language_info": {
   "codemirror_mode": {
    "name": "ipython",
    "version": 3
   },
   "file_extension": ".py",
   "mimetype": "text/x-python",
   "name": "python",
   "nbconvert_exporter": "python",
   "pygments_lexer": "ipython3",
   "version": "3.8.8"
  }
 },
 "nbformat": 4,
 "nbformat_minor": 5
}
