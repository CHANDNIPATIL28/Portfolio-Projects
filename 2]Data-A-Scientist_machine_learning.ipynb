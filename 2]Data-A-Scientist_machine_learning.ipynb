{
 "cells": [
  {
   "cell_type": "markdown",
   "id": "3ca69890",
   "metadata": {},
   "source": [
    "# Date-A-Scientist\n",
    "In recent years, there has been a massive rise in the usage of dating apps to find love. Many of these apps use sophisticated data science techniques to recommend possible matches to users and to optimize the user experience. These apps give us access to a wealth of information that we’ve never had before about how different people experience romance.\n",
    "\n",
    "In this capstone,we will analyze some data from OKCupid, an app that focuses on using multiple choice and short answers to match users."
   ]
  },
  {
   "cell_type": "code",
   "execution_count": 32,
   "id": "85d1e3e9",
   "metadata": {},
   "outputs": [],
   "source": [
    "import pandas as pd\n",
    "from matplotlib import pyplot as plt\n",
    "import seaborn as sns\n",
    "import numpy as np\n",
    "from sklearn.preprocessing import StandardScaler\n",
    "from sklearn.model_selection import train_test_split"
   ]
  },
  {
   "cell_type": "markdown",
   "id": "93153bf4",
   "metadata": {},
   "source": [
    "# Investigating The Data"
   ]
  },
  {
   "cell_type": "code",
   "execution_count": 3,
   "id": "034ef414",
   "metadata": {},
   "outputs": [
    {
     "name": "stdout",
     "output_type": "stream",
     "text": [
      "   age       body_type               diet    drinks      drugs  \\\n",
      "0   22  a little extra  strictly anything  socially      never   \n",
      "1   35         average       mostly other     often  sometimes   \n",
      "2   38            thin           anything  socially        NaN   \n",
      "3   23            thin         vegetarian  socially        NaN   \n",
      "4   29        athletic                NaN  socially      never   \n",
      "\n",
      "                           education  \\\n",
      "0      working on college/university   \n",
      "1              working on space camp   \n",
      "2     graduated from masters program   \n",
      "3      working on college/university   \n",
      "4  graduated from college/university   \n",
      "\n",
      "                                              essay0  \\\n",
      "0  about me:<br />\\n<br />\\ni would love to think...   \n",
      "1  i am a chef: this is what that means.<br />\\n1...   \n",
      "2  i'm not ashamed of much, but writing public te...   \n",
      "3          i work in a library and go to school. . .   \n",
      "4  hey how's it going? currently vague on the pro...   \n",
      "\n",
      "                                              essay1  \\\n",
      "0  currently working as an international agent fo...   \n",
      "1  dedicating everyday to being an unbelievable b...   \n",
      "2  i make nerdy software for musicians, artists, ...   \n",
      "3          reading things written by old dead people   \n",
      "4                         work work work work + play   \n",
      "\n",
      "                                              essay2  \\\n",
      "0  making people laugh.<br />\\nranting about a go...   \n",
      "1  being silly. having ridiculous amonts of fun w...   \n",
      "2  improvising in different contexts. alternating...   \n",
      "3  playing synthesizers and organizing books acco...   \n",
      "4  creating imagery to look at:<br />\\nhttp://bag...   \n",
      "\n",
      "                                              essay3  ...  \\\n",
      "0  the way i look. i am a six foot half asian, ha...  ...   \n",
      "1                                                NaN  ...   \n",
      "2  my large jaw and large glasses are the physica...  ...   \n",
      "3                  socially awkward but i do my best  ...   \n",
      "4            i smile a lot and my inquisitive nature  ...   \n",
      "\n",
      "                          location  \\\n",
      "0  south san francisco, california   \n",
      "1              oakland, california   \n",
      "2        san francisco, california   \n",
      "3             berkeley, california   \n",
      "4        san francisco, california   \n",
      "\n",
      "                                      offspring orientation  \\\n",
      "0  doesn&rsquo;t have kids, but might want them    straight   \n",
      "1  doesn&rsquo;t have kids, but might want them    straight   \n",
      "2                                           NaN    straight   \n",
      "3                       doesn&rsquo;t want kids    straight   \n",
      "4                                           NaN    straight   \n",
      "\n",
      "                        pets                                  religion sex  \\\n",
      "0  likes dogs and likes cats     agnosticism and very serious about it   m   \n",
      "1  likes dogs and likes cats  agnosticism but not too serious about it   m   \n",
      "2                   has cats                                       NaN   m   \n",
      "3                 likes cats                                       NaN   m   \n",
      "4  likes dogs and likes cats                                       NaN   m   \n",
      "\n",
      "                                 sign     smokes  \\\n",
      "0                              gemini  sometimes   \n",
      "1                              cancer         no   \n",
      "2  pisces but it doesn&rsquo;t matter         no   \n",
      "3                              pisces         no   \n",
      "4                            aquarius         no   \n",
      "\n",
      "                                              speaks     status  \n",
      "0                                            english     single  \n",
      "1  english (fluently), spanish (poorly), french (...     single  \n",
      "2                               english, french, c++  available  \n",
      "3                           english, german (poorly)     single  \n",
      "4                                            english     single  \n",
      "\n",
      "[5 rows x 31 columns]\n"
     ]
    }
   ],
   "source": [
    "df = pd.read_csv('profiles.csv')\n",
    "print(df.head())"
   ]
  },
  {
   "cell_type": "code",
   "execution_count": 4,
   "id": "5d8b12a4",
   "metadata": {},
   "outputs": [
    {
     "name": "stdout",
     "output_type": "stream",
     "text": [
      "doesn&rsquo;t have kids                                7560\n",
      "doesn&rsquo;t have kids, but might want them           3875\n",
      "doesn&rsquo;t have kids, but wants them                3565\n",
      "doesn&rsquo;t want kids                                2927\n",
      "has kids                                               1883\n",
      "has a kid                                              1881\n",
      "doesn&rsquo;t have kids, and doesn&rsquo;t want any    1132\n",
      "has kids, but doesn&rsquo;t want more                   442\n",
      "has a kid, but doesn&rsquo;t want more                  275\n",
      "has a kid, and might want more                          231\n",
      "wants kids                                              225\n",
      "might want kids                                         182\n",
      "has kids, and might want more                           115\n",
      "has a kid, and wants more                                71\n",
      "has kids, and wants more                                 21\n",
      "Name: offspring, dtype: int64\n",
      "Index(['age', 'body_type', 'diet', 'drinks', 'drugs', 'education', 'essay0',\n",
      "       'essay1', 'essay2', 'essay3', 'essay4', 'essay5', 'essay6', 'essay7',\n",
      "       'essay8', 'essay9', 'ethnicity', 'height', 'income', 'job',\n",
      "       'last_online', 'location', 'offspring', 'orientation', 'pets',\n",
      "       'religion', 'sex', 'sign', 'smokes', 'speaks', 'status'],\n",
      "      dtype='object')\n"
     ]
    }
   ],
   "source": [
    "print(df.offspring.value_counts())\n",
    "print(df.columns)"
   ]
  },
  {
   "cell_type": "markdown",
   "id": "8b06c9d0",
   "metadata": {},
   "source": [
    "# Visualizing The Data\n",
    "\n",
    "## Age"
   ]
  },
  {
   "cell_type": "code",
   "execution_count": 5,
   "id": "9f12d974",
   "metadata": {},
   "outputs": [
    {
     "data": {
      "text/plain": [
       "Text(0.5, 1.0, 'Age of People in Okcupid')"
      ]
     },
     "execution_count": 5,
     "metadata": {},
     "output_type": "execute_result"
    },
    {
     "data": {
      "image/png": "[encoded data removed]",
      "text/plain": [
       "<Figure size 432x288 with 1 Axes>"
      ]
     },
     "metadata": {
      "needs_background": "light"
     },
     "output_type": "display_data"
    }
   ],
   "source": [
    "sns.histplot(df.age)\n",
    "plt.title('Age of People in Okcupid')"
   ]
  },
  {
   "cell_type": "markdown",
   "id": "f3f5d9d1",
   "metadata": {},
   "source": [
    "### Status of Male and Female Based on age"
   ]
  },
  {
   "cell_type": "code",
   "execution_count": 6,
   "id": "bf2b8852",
   "metadata": {},
   "outputs": [
    {
     "data": {
      "text/plain": [
       "Text(0.5, 1.0, 'Status of Male and Female Based on age')"
      ]
     },
     "execution_count": 6,
     "metadata": {},
     "output_type": "execute_result"
    },
    {
     "data": {
      "image/png": "[encoded data removed]",
      "text/plain": [
       "<Figure size 720x576 with 1 Axes>"
      ]
     },
     "metadata": {
      "needs_background": "light"
     },
     "output_type": "display_data"
    }
   ],
   "source": [
    "plt.figure(figsize=(10,8))\n",
    "sns.set_palette('Set1')\n",
    "sns.barplot(y='age',x='status',hue='sex',data=df)\n",
    "plt.title('Status of Male and Female Based on age')"
   ]
  },
  {
   "cell_type": "markdown",
   "id": "33d7754b",
   "metadata": {},
   "source": [
    "### Income"
   ]
  },
  {
   "cell_type": "code",
   "execution_count": 7,
   "id": "0eda335c",
   "metadata": {},
   "outputs": [
    {
     "data": {
      "image/png": "[encoded data removed]",
      "text/plain": [
       "<Figure size 864x576 with 1 Axes>"
      ]
     },
     "metadata": {},
     "output_type": "display_data"
    }
   ],
   "source": [
    "non_na_income_data = df['income'][df['income'] != -1]\n",
    "plt.figure(figsize=(12,8))\n",
    "plt.pie(non_na_income_data.value_counts(), labels=non_na_income_data.unique())\n",
    "plt.title(\"Income for OkCupid Users\")\n",
    "plt.legend(loc='upper right', bbox_to_anchor=(1.15, 1))\n",
    "plt.show()"
   ]
  },
  {
   "cell_type": "markdown",
   "id": "c56814b6",
   "metadata": {},
   "source": [
    "### Body Type"
   ]
  },
  {
   "cell_type": "code",
   "execution_count": 8,
   "id": "0cc3af09",
   "metadata": {},
   "outputs": [
    {
     "data": {
      "image/png": "[encoded data removed]",
      "text/plain": [
       "<Figure size 864x576 with 1 Axes>"
      ]
     },
     "metadata": {
      "needs_background": "light"
     },
     "output_type": "display_data"
    }
   ],
   "source": [
    "plt.figure(figsize=(12,8))\n",
    "ax = plt.subplot()\n",
    "sns.countplot(y='body_type', data=df, order=df['body_type'].value_counts().index)\n",
    "plt.xlabel(\"Count\")\n",
    "plt.ylabel(\"Body Type\")\n",
    "plt.title(\"OkCupid Users' Body Types\")\n",
    "plt.show()"
   ]
  },
  {
   "cell_type": "markdown",
   "id": "2caebc78",
   "metadata": {},
   "source": [
    "### Diet"
   ]
  },
  {
   "cell_type": "code",
   "execution_count": 9,
   "id": "b9f4c2ff",
   "metadata": {},
   "outputs": [
    {
     "data": {
      "image/png": "[encoded data removed]",
      "text/plain": [
       "<Figure size 864x576 with 1 Axes>"
      ]
     },
     "metadata": {
      "needs_background": "light"
     },
     "output_type": "display_data"
    }
   ],
   "source": [
    "plt.figure(figsize=(12,8))\n",
    "ax = plt.subplot()\n",
    "sns.countplot(y='diet', data=df, order=df['diet'].value_counts().index)\n",
    "plt.xlabel(\"Count\")\n",
    "plt.ylabel(\"Diet\")\n",
    "plt.title(\"OkCupid Users' Diet\")\n",
    "plt.show()"
   ]
  },
  {
   "cell_type": "markdown",
   "id": "89085802",
   "metadata": {},
   "source": [
    "### Education"
   ]
  },
  {
   "cell_type": "code",
   "execution_count": 10,
   "id": "1ce40346",
   "metadata": {},
   "outputs": [
    {
     "data": {
      "image/png": "[encoded data removed]",
      "text/plain": [
       "<Figure size 864x576 with 1 Axes>"
      ]
     },
     "metadata": {
      "needs_background": "light"
     },
     "output_type": "display_data"
    }
   ],
   "source": [
    "plt.figure(figsize=(12,8))\n",
    "ax = plt.subplot()\n",
    "sns.countplot(y='education', data=df, order=df['education'].value_counts().index)\n",
    "plt.xlabel(\"Count\")\n",
    "plt.ylabel(\"education\")\n",
    "plt.title(\"OkCupid Users' education\")\n",
    "plt.show()"
   ]
  },
  {
   "cell_type": "markdown",
   "id": "fa1ed0f0",
   "metadata": {},
   "source": [
    " ###  Religion"
   ]
  },
  {
   "cell_type": "code",
   "execution_count": 14,
   "id": "eedd1845",
   "metadata": {},
   "outputs": [
    {
     "data": {
      "image/png": "[encoded data removed]",
      "text/plain": [
       "<Figure size 864x576 with 1 Axes>"
      ]
     },
     "metadata": {
      "needs_background": "light"
     },
     "output_type": "display_data"
    }
   ],
   "source": [
    "df.religion = df.religion.str.split().str.get(0)\n",
    "plt.figure(figsize=(12,8))\n",
    "ax = plt.subplot()\n",
    "sns.countplot(y='religion', data=df, order=df['religion'].value_counts().index)\n",
    "plt.xlabel(\"Count\")\n",
    "plt.ylabel(\"religion\")\n",
    "plt.title(\"OkCupid Users' religion\")\n",
    "plt.show()"
   ]
  },
  {
   "cell_type": "markdown",
   "id": "32de911e",
   "metadata": {},
   "source": [
    "### Sign"
   ]
  },
  {
   "cell_type": "code",
   "execution_count": 16,
   "id": "363cf536",
   "metadata": {},
   "outputs": [
    {
     "data": {
      "image/png": "[encoded data removed]",
      "text/plain": [
       "<Figure size 864x576 with 1 Axes>"
      ]
     },
     "metadata": {
      "needs_background": "light"
     },
     "output_type": "display_data"
    }
   ],
   "source": [
    "df.sign = df.sign.str.split().str.get(0)\n",
    "plt.figure(figsize=(12,8))\n",
    "ax = plt.subplot()\n",
    "sns.countplot(y='sign', data=df, order=df['sign'].value_counts().index)\n",
    "plt.xlabel(\"Count\")\n",
    "plt.ylabel(\"sign\")\n",
    "plt.title(\"OkCupid Users' sign\")\n",
    "plt.show()"
   ]
  },
  {
   "cell_type": "markdown",
   "id": "80367b01",
   "metadata": {},
   "source": [
    "### Smokes"
   ]
  },
  {
   "cell_type": "code",
   "execution_count": 17,
   "id": "6e9cb707",
   "metadata": {},
   "outputs": [
    {
     "data": {
      "image/png": "[encoded data removed]",
      "text/plain": [
       "<Figure size 864x576 with 1 Axes>"
      ]
     },
     "metadata": {
      "needs_background": "light"
     },
     "output_type": "display_data"
    }
   ],
   "source": [
    "\n",
    "plt.figure(figsize=(12,8))\n",
    "ax = plt.subplot()\n",
    "sns.countplot(y='smokes', data=df, order=df['smokes'].value_counts().index)\n",
    "plt.xlabel(\"Count\")\n",
    "plt.ylabel(\"smokes\")\n",
    "plt.title(\"OkCupid Users' smokes\")\n",
    "plt.show()"
   ]
  },
  {
   "cell_type": "markdown",
   "id": "3536d5bd",
   "metadata": {},
   "source": [
    "### Drinks"
   ]
  },
  {
   "cell_type": "code",
   "execution_count": 18,
   "id": "cc1eaf5a",
   "metadata": {},
   "outputs": [
    {
     "data": {
      "image/png": "[encoded data removed]",
      "text/plain": [
       "<Figure size 864x576 with 1 Axes>"
      ]
     },
     "metadata": {
      "needs_background": "light"
     },
     "output_type": "display_data"
    }
   ],
   "source": [
    "plt.figure(figsize=(12,8))\n",
    "ax = plt.subplot()\n",
    "sns.countplot(y='drinks', data=df, order=df['drinks'].value_counts().index)\n",
    "plt.xlabel(\"Count\")\n",
    "plt.ylabel(\"drinks\")\n",
    "plt.title(\"OkCupid Users' drinks\")\n",
    "plt.show()"
   ]
  },
  {
   "cell_type": "markdown",
   "id": "9bbde6d8",
   "metadata": {},
   "source": [
    "###  Orientation"
   ]
  },
  {
   "cell_type": "code",
   "execution_count": 20,
   "id": "cec09a87",
   "metadata": {},
   "outputs": [
    {
     "data": {
      "image/png": "[encoded data removed]",
      "text/plain": [
       "<Figure size 864x576 with 1 Axes>"
      ]
     },
     "metadata": {
      "needs_background": "light"
     },
     "output_type": "display_data"
    }
   ],
   "source": [
    "plt.figure(figsize=(12,8))\n",
    "ax = plt.subplot()\n",
    "sns.countplot(y='orientation', data=df, order=df['orientation'].value_counts().index)\n",
    "plt.xlabel(\"Count\")\n",
    "plt.ylabel(\"orientation\")\n",
    "plt.title(\"OkCupid Users' orientation\")\n",
    "plt.show()"
   ]
  },
  {
   "cell_type": "markdown",
   "id": "cc66d1f6",
   "metadata": {},
   "source": [
    "# Data Processing\n",
    "\n",
    "### Missing Value"
   ]
  },
  {
   "cell_type": "code",
   "execution_count": 94,
   "id": "86a03d6d",
   "metadata": {},
   "outputs": [
    {
     "data": {
      "text/plain": [
       "age                0\n",
       "body_type       5296\n",
       "diet           24395\n",
       "drinks          2985\n",
       "drugs          14080\n",
       "education       6628\n",
       "essay0          5488\n",
       "essay1          7572\n",
       "essay2          9638\n",
       "essay3         11476\n",
       "essay4         10537\n",
       "essay5         10850\n",
       "essay6         13771\n",
       "essay7         12451\n",
       "essay8         19225\n",
       "essay9         12603\n",
       "ethnicity       5680\n",
       "height             3\n",
       "income             0\n",
       "job             8198\n",
       "last_online        0\n",
       "location           0\n",
       "offspring      35561\n",
       "orientation        0\n",
       "pets           19921\n",
       "religion       20226\n",
       "sex                0\n",
       "sign           11056\n",
       "smokes          5512\n",
       "speaks            50\n",
       "status             0\n",
       "dtype: int64"
      ]
     },
     "execution_count": 94,
     "metadata": {},
     "output_type": "execute_result"
    }
   ],
   "source": [
    "df.isnull().sum()"
   ]
  },
  {
   "cell_type": "code",
   "execution_count": 95,
   "id": "6fbb7320",
   "metadata": {},
   "outputs": [
    {
     "data": {
      "text/plain": [
       "(16453, 8)"
      ]
     },
     "execution_count": 95,
     "metadata": {},
     "output_type": "execute_result"
    }
   ],
   "source": [
    "cols = ['body_type', 'diet', 'orientation', 'pets', 'religion',\n",
    "       'sex', 'job', 'sign']\n",
    "new_df = df[cols].dropna()\n",
    "new_df.shape"
   ]
  },
  {
   "cell_type": "code",
   "execution_count": 96,
   "id": "4a62ccd9",
   "metadata": {},
   "outputs": [
    {
     "data": {
      "text/html": [
       "<div>\n",
       "<style scoped>\n",
       "    .dataframe tbody tr th:only-of-type {\n",
       "        vertical-align: middle;\n",
       "    }\n",
       "\n",
       "    .dataframe tbody tr th {\n",
       "        vertical-align: top;\n",
       "    }\n",
       "\n",
       "    .dataframe thead th {\n",
       "        text-align: right;\n",
       "    }\n",
       "</style>\n",
       "<table border=\"1\" class=\"dataframe\">\n",
       "  <thead>\n",
       "    <tr style=\"text-align: right;\">\n",
       "      <th></th>\n",
       "      <th>body_type</th>\n",
       "      <th>diet</th>\n",
       "      <th>orientation</th>\n",
       "      <th>pets</th>\n",
       "      <th>religion</th>\n",
       "      <th>sex</th>\n",
       "      <th>job</th>\n",
       "      <th>sign</th>\n",
       "    </tr>\n",
       "  </thead>\n",
       "  <tbody>\n",
       "    <tr>\n",
       "      <th>0</th>\n",
       "      <td>a little extra</td>\n",
       "      <td>strictly anything</td>\n",
       "      <td>straight</td>\n",
       "      <td>likes dogs and likes cats</td>\n",
       "      <td>agnosticism</td>\n",
       "      <td>m</td>\n",
       "      <td>transportation</td>\n",
       "      <td>gemini</td>\n",
       "    </tr>\n",
       "    <tr>\n",
       "      <th>1</th>\n",
       "      <td>average</td>\n",
       "      <td>mostly other</td>\n",
       "      <td>straight</td>\n",
       "      <td>likes dogs and likes cats</td>\n",
       "      <td>agnosticism</td>\n",
       "      <td>m</td>\n",
       "      <td>hospitality / travel</td>\n",
       "      <td>cancer</td>\n",
       "    </tr>\n",
       "    <tr>\n",
       "      <th>5</th>\n",
       "      <td>average</td>\n",
       "      <td>mostly anything</td>\n",
       "      <td>straight</td>\n",
       "      <td>likes cats</td>\n",
       "      <td>atheism</td>\n",
       "      <td>m</td>\n",
       "      <td>computer / hardware / software</td>\n",
       "      <td>taurus</td>\n",
       "    </tr>\n",
       "    <tr>\n",
       "      <th>7</th>\n",
       "      <td>average</td>\n",
       "      <td>mostly anything</td>\n",
       "      <td>straight</td>\n",
       "      <td>likes dogs and likes cats</td>\n",
       "      <td>christianity</td>\n",
       "      <td>f</td>\n",
       "      <td>artistic / musical / writer</td>\n",
       "      <td>sagittarius</td>\n",
       "    </tr>\n",
       "    <tr>\n",
       "      <th>9</th>\n",
       "      <td>athletic</td>\n",
       "      <td>mostly anything</td>\n",
       "      <td>straight</td>\n",
       "      <td>likes dogs and likes cats</td>\n",
       "      <td>atheism</td>\n",
       "      <td>m</td>\n",
       "      <td>student</td>\n",
       "      <td>cancer</td>\n",
       "    </tr>\n",
       "  </tbody>\n",
       "</table>\n",
       "</div>"
      ],
      "text/plain": [
       "        body_type               diet orientation                       pets  \\\n",
       "0  a little extra  strictly anything    straight  likes dogs and likes cats   \n",
       "1         average       mostly other    straight  likes dogs and likes cats   \n",
       "5         average    mostly anything    straight                 likes cats   \n",
       "7         average    mostly anything    straight  likes dogs and likes cats   \n",
       "9        athletic    mostly anything    straight  likes dogs and likes cats   \n",
       "\n",
       "       religion sex                             job         sign  \n",
       "0   agnosticism   m                  transportation       gemini  \n",
       "1   agnosticism   m            hospitality / travel       cancer  \n",
       "5       atheism   m  computer / hardware / software       taurus  \n",
       "7  christianity   f     artistic / musical / writer  sagittarius  \n",
       "9       atheism   m                         student       cancer  "
      ]
     },
     "execution_count": 96,
     "metadata": {},
     "output_type": "execute_result"
    }
   ],
   "source": [
    "new_df.head()"
   ]
  },
  {
   "cell_type": "markdown",
   "id": "8574aaa8",
   "metadata": {},
   "source": [
    "#### The code below transforms the categorical variables into binary data. Because the categorical format is not usable."
   ]
  },
  {
   "cell_type": "code",
   "execution_count": 97,
   "id": "45f4be1e",
   "metadata": {},
   "outputs": [
    {
     "data": {
      "text/html": [
       "<div>\n",
       "<style scoped>\n",
       "    .dataframe tbody tr th:only-of-type {\n",
       "        vertical-align: middle;\n",
       "    }\n",
       "\n",
       "    .dataframe tbody tr th {\n",
       "        vertical-align: top;\n",
       "    }\n",
       "\n",
       "    .dataframe thead th {\n",
       "        text-align: right;\n",
       "    }\n",
       "</style>\n",
       "<table border=\"1\" class=\"dataframe\">\n",
       "  <thead>\n",
       "    <tr style=\"text-align: right;\">\n",
       "      <th></th>\n",
       "      <th>sign</th>\n",
       "      <th>body_type_a little extra</th>\n",
       "      <th>body_type_athletic</th>\n",
       "      <th>body_type_average</th>\n",
       "      <th>body_type_curvy</th>\n",
       "      <th>body_type_fit</th>\n",
       "      <th>body_type_full figured</th>\n",
       "      <th>body_type_jacked</th>\n",
       "      <th>body_type_overweight</th>\n",
       "      <th>body_type_rather not say</th>\n",
       "      <th>...</th>\n",
       "      <th>job_military</th>\n",
       "      <th>job_other</th>\n",
       "      <th>job_political / government</th>\n",
       "      <th>job_rather not say</th>\n",
       "      <th>job_retired</th>\n",
       "      <th>job_sales / marketing / biz dev</th>\n",
       "      <th>job_science / tech / engineering</th>\n",
       "      <th>job_student</th>\n",
       "      <th>job_transportation</th>\n",
       "      <th>job_unemployed</th>\n",
       "    </tr>\n",
       "  </thead>\n",
       "  <tbody>\n",
       "    <tr>\n",
       "      <th>0</th>\n",
       "      <td>gemini</td>\n",
       "      <td>1</td>\n",
       "      <td>0</td>\n",
       "      <td>0</td>\n",
       "      <td>0</td>\n",
       "      <td>0</td>\n",
       "      <td>0</td>\n",
       "      <td>0</td>\n",
       "      <td>0</td>\n",
       "      <td>0</td>\n",
       "      <td>...</td>\n",
       "      <td>0</td>\n",
       "      <td>0</td>\n",
       "      <td>0</td>\n",
       "      <td>0</td>\n",
       "      <td>0</td>\n",
       "      <td>0</td>\n",
       "      <td>0</td>\n",
       "      <td>0</td>\n",
       "      <td>1</td>\n",
       "      <td>0</td>\n",
       "    </tr>\n",
       "    <tr>\n",
       "      <th>1</th>\n",
       "      <td>cancer</td>\n",
       "      <td>0</td>\n",
       "      <td>0</td>\n",
       "      <td>1</td>\n",
       "      <td>0</td>\n",
       "      <td>0</td>\n",
       "      <td>0</td>\n",
       "      <td>0</td>\n",
       "      <td>0</td>\n",
       "      <td>0</td>\n",
       "      <td>...</td>\n",
       "      <td>0</td>\n",
       "      <td>0</td>\n",
       "      <td>0</td>\n",
       "      <td>0</td>\n",
       "      <td>0</td>\n",
       "      <td>0</td>\n",
       "      <td>0</td>\n",
       "      <td>0</td>\n",
       "      <td>0</td>\n",
       "      <td>0</td>\n",
       "    </tr>\n",
       "    <tr>\n",
       "      <th>5</th>\n",
       "      <td>taurus</td>\n",
       "      <td>0</td>\n",
       "      <td>0</td>\n",
       "      <td>1</td>\n",
       "      <td>0</td>\n",
       "      <td>0</td>\n",
       "      <td>0</td>\n",
       "      <td>0</td>\n",
       "      <td>0</td>\n",
       "      <td>0</td>\n",
       "      <td>...</td>\n",
       "      <td>0</td>\n",
       "      <td>0</td>\n",
       "      <td>0</td>\n",
       "      <td>0</td>\n",
       "      <td>0</td>\n",
       "      <td>0</td>\n",
       "      <td>0</td>\n",
       "      <td>0</td>\n",
       "      <td>0</td>\n",
       "      <td>0</td>\n",
       "    </tr>\n",
       "    <tr>\n",
       "      <th>7</th>\n",
       "      <td>sagittarius</td>\n",
       "      <td>0</td>\n",
       "      <td>0</td>\n",
       "      <td>1</td>\n",
       "      <td>0</td>\n",
       "      <td>0</td>\n",
       "      <td>0</td>\n",
       "      <td>0</td>\n",
       "      <td>0</td>\n",
       "      <td>0</td>\n",
       "      <td>...</td>\n",
       "      <td>0</td>\n",
       "      <td>0</td>\n",
       "      <td>0</td>\n",
       "      <td>0</td>\n",
       "      <td>0</td>\n",
       "      <td>0</td>\n",
       "      <td>0</td>\n",
       "      <td>0</td>\n",
       "      <td>0</td>\n",
       "      <td>0</td>\n",
       "    </tr>\n",
       "    <tr>\n",
       "      <th>9</th>\n",
       "      <td>cancer</td>\n",
       "      <td>0</td>\n",
       "      <td>1</td>\n",
       "      <td>0</td>\n",
       "      <td>0</td>\n",
       "      <td>0</td>\n",
       "      <td>0</td>\n",
       "      <td>0</td>\n",
       "      <td>0</td>\n",
       "      <td>0</td>\n",
       "      <td>...</td>\n",
       "      <td>0</td>\n",
       "      <td>0</td>\n",
       "      <td>0</td>\n",
       "      <td>0</td>\n",
       "      <td>0</td>\n",
       "      <td>0</td>\n",
       "      <td>0</td>\n",
       "      <td>1</td>\n",
       "      <td>0</td>\n",
       "      <td>0</td>\n",
       "    </tr>\n",
       "  </tbody>\n",
       "</table>\n",
       "<p>5 rows × 81 columns</p>\n",
       "</div>"
      ],
      "text/plain": [
       "          sign  body_type_a little extra  body_type_athletic  \\\n",
       "0       gemini                         1                   0   \n",
       "1       cancer                         0                   0   \n",
       "5       taurus                         0                   0   \n",
       "7  sagittarius                         0                   0   \n",
       "9       cancer                         0                   1   \n",
       "\n",
       "   body_type_average  body_type_curvy  body_type_fit  body_type_full figured  \\\n",
       "0                  0                0              0                       0   \n",
       "1                  1                0              0                       0   \n",
       "5                  1                0              0                       0   \n",
       "7                  1                0              0                       0   \n",
       "9                  0                0              0                       0   \n",
       "\n",
       "   body_type_jacked  body_type_overweight  body_type_rather not say  ...  \\\n",
       "0                 0                     0                         0  ...   \n",
       "1                 0                     0                         0  ...   \n",
       "5                 0                     0                         0  ...   \n",
       "7                 0                     0                         0  ...   \n",
       "9                 0                     0                         0  ...   \n",
       "\n",
       "   job_military  job_other  job_political / government  job_rather not say  \\\n",
       "0             0          0                           0                   0   \n",
       "1             0          0                           0                   0   \n",
       "5             0          0                           0                   0   \n",
       "7             0          0                           0                   0   \n",
       "9             0          0                           0                   0   \n",
       "\n",
       "   job_retired  job_sales / marketing / biz dev  \\\n",
       "0            0                                0   \n",
       "1            0                                0   \n",
       "5            0                                0   \n",
       "7            0                                0   \n",
       "9            0                                0   \n",
       "\n",
       "   job_science / tech / engineering  job_student  job_transportation  \\\n",
       "0                                 0            0                   1   \n",
       "1                                 0            0                   0   \n",
       "5                                 0            0                   0   \n",
       "7                                 0            0                   0   \n",
       "9                                 0            1                   0   \n",
       "\n",
       "   job_unemployed  \n",
       "0               0  \n",
       "1               0  \n",
       "5               0  \n",
       "7               0  \n",
       "9               0  \n",
       "\n",
       "[5 rows x 81 columns]"
      ]
     },
     "execution_count": 97,
     "metadata": {},
     "output_type": "execute_result"
    }
   ],
   "source": [
    "for i in col[:-1]:\n",
    "    new_df = pd.get_dummies(data = new_df, columns = [i], prefix = [i])\n",
    "new_df.head()    "
   ]
  },
  {
   "cell_type": "markdown",
   "id": "d332fec7",
   "metadata": {},
   "source": [
    "#### Splitting Data"
   ]
  },
  {
   "cell_type": "code",
   "execution_count": 106,
   "id": "c7fdf35b",
   "metadata": {},
   "outputs": [],
   "source": [
    "#Y is the target column, X has the rest\n",
    "X = new_df.iloc[:,1:len(new_df.columns)]\n",
    "Y = new_df.iloc[:,0]\n",
    "#Split the data into chunks\n",
    "from sklearn.model_selection import train_test_split \n",
    "X_train, X_test, Y_train, Y_test = train_test_split(X, Y, test_size=0.2, random_state = 42)\n",
    "#turn in to 1d arrays\n",
    "Y_train = Y_train.to_numpy().ravel()\n",
    "Y_test = Y_test.to_numpy().ravel()"
   ]
  },
  {
   "cell_type": "markdown",
   "id": "eb94aecc",
   "metadata": {},
   "source": [
    "# Making our Ml Model for predicting sign\n",
    "\n",
    "#### For this project we will use  three common algorithms will be used to make predictions. Below, the respective modules for Logistic Regression, Decision Trees, and KNN are loaded."
   ]
  },
  {
   "cell_type": "code",
   "execution_count": 107,
   "id": "8d3935ed",
   "metadata": {},
   "outputs": [],
   "source": [
    "from sklearn.linear_model import LogisticRegression\n",
    "from sklearn.tree import DecisionTreeClassifier\n",
    "from sklearn.neighbors import KNeighborsClassifier"
   ]
  },
  {
   "cell_type": "markdown",
   "id": "ad5d0b93",
   "metadata": {},
   "source": [
    "### Model 1\n",
    "\n",
    "#### Logistic Regression Classifier"
   ]
  },
  {
   "cell_type": "code",
   "execution_count": 108,
   "id": "4a486614",
   "metadata": {},
   "outputs": [
    {
     "name": "stderr",
     "output_type": "stream",
     "text": [
      "C:\\Users\\vaibh\\anaconda3\\lib\\site-packages\\sklearn\\linear_model\\_logistic.py:763: ConvergenceWarning: lbfgs failed to converge (status=1):\n",
      "STOP: TOTAL NO. of ITERATIONS REACHED LIMIT.\n",
      "\n",
      "Increase the number of iterations (max_iter) or scale the data as shown in:\n",
      "    https://scikit-learn.org/stable/modules/preprocessing.html\n",
      "Please also refer to the documentation for alternative solver options:\n",
      "    https://scikit-learn.org/stable/modules/linear_model.html#logistic-regression\n",
      "  n_iter_i = _check_optimize_result(\n"
     ]
    }
   ],
   "source": [
    "# The first model is using logistic regression with the multi_class=\"multinomial\" argument\n",
    "classifier1 =  LogisticRegression(multi_class=\"multinomial\")\n",
    "lr_model =classifier1.fit(X_train, Y_train)\n",
    "lr_predictions = lr_model.predict(X_train)"
   ]
  },
  {
   "cell_type": "code",
   "execution_count": 111,
   "id": "b531c3a3",
   "metadata": {},
   "outputs": [
    {
     "name": "stdout",
     "output_type": "stream",
     "text": [
      "Prediction : ['aquarius' 'leo' 'virgo' ... 'pisces' 'leo' 'virgo']\n",
      "Score for training data : 0.12042242820240084\n",
      "Score for test data : 0.08447280461865694\n"
     ]
    }
   ],
   "source": [
    "print(f\"Prediction : {lr_predictions}\")\n",
    "print(f\"Score for training data : {lr_model.score(X_train, Y_train)}\")\n",
    "print(f\"Score for test data : {lr_model.score(X_test, Y_test)}\")"
   ]
  },
  {
   "cell_type": "code",
   "execution_count": 112,
   "id": "b6535ea2",
   "metadata": {},
   "outputs": [
    {
     "name": "stdout",
     "output_type": "stream",
     "text": [
      "              precision    recall  f1-score   support\n",
      "\n",
      "    aquarius       0.13      0.05      0.07      1007\n",
      "       aries       0.11      0.08      0.09      1050\n",
      "      cancer       0.12      0.23      0.16      1196\n",
      "   capricorn       0.11      0.03      0.05       966\n",
      "      gemini       0.11      0.14      0.13      1181\n",
      "         leo       0.12      0.18      0.14      1212\n",
      "       libra       0.13      0.11      0.12      1087\n",
      "      pisces       0.12      0.14      0.13      1080\n",
      " sagittarius       0.11      0.08      0.09      1049\n",
      "     scorpio       0.13      0.06      0.08      1067\n",
      "      taurus       0.11      0.10      0.11      1116\n",
      "       virgo       0.13      0.21      0.16      1151\n",
      "\n",
      "    accuracy                           0.12     13162\n",
      "   macro avg       0.12      0.12      0.11     13162\n",
      "weighted avg       0.12      0.12      0.11     13162\n",
      "\n"
     ]
    }
   ],
   "source": [
    "from sklearn.metrics import classification_report\n",
    "print(classification_report(Y_train, lr_predictions))"
   ]
  },
  {
   "cell_type": "markdown",
   "id": "5fb8e393",
   "metadata": {},
   "source": [
    "#### The scores obtained for our logistic regression model are low."
   ]
  },
  {
   "cell_type": "markdown",
   "id": "09d8f711",
   "metadata": {},
   "source": [
    "## Model2"
   ]
  },
  {
   "cell_type": "markdown",
   "id": "7a3cf6af",
   "metadata": {},
   "source": [
    "#### K-Nearest_Neighbors Classifier"
   ]
  },
  {
   "cell_type": "code",
   "execution_count": 113,
   "id": "fad4a1c1",
   "metadata": {},
   "outputs": [],
   "source": [
    "knn_model = KNeighborsClassifier(n_neighbors = 5).fit(X_train, Y_train)\n",
    "knn_predictions = knn_model.predict(X_train)"
   ]
  },
  {
   "cell_type": "code",
   "execution_count": 114,
   "id": "63daa28c",
   "metadata": {},
   "outputs": [
    {
     "name": "stdout",
     "output_type": "stream",
     "text": [
      "Score for training data : 0.3295091931317429\n",
      "Score for test data : 0.08173807353388028\n"
     ]
    }
   ],
   "source": [
    "print(f\"Score for training data : {knn_model.score(X_train, Y_train)}\")\n",
    "print(f\"Score for test data : {knn_model.score(X_test, Y_test)}\")"
   ]
  },
  {
   "cell_type": "code",
   "execution_count": 115,
   "id": "bcf88089",
   "metadata": {},
   "outputs": [
    {
     "name": "stdout",
     "output_type": "stream",
     "text": [
      "              precision    recall  f1-score   support\n",
      "\n",
      "    aquarius       0.24      0.63      0.35      1007\n",
      "       aries       0.28      0.55      0.37      1050\n",
      "      cancer       0.29      0.43      0.35      1196\n",
      "   capricorn       0.30      0.32      0.31       966\n",
      "      gemini       0.37      0.33      0.34      1181\n",
      "         leo       0.41      0.30      0.34      1212\n",
      "       libra       0.41      0.26      0.32      1087\n",
      "      pisces       0.39      0.25      0.30      1080\n",
      " sagittarius       0.44      0.21      0.28      1049\n",
      "     scorpio       0.41      0.23      0.30      1067\n",
      "      taurus       0.42      0.23      0.30      1116\n",
      "       virgo       0.41      0.24      0.30      1151\n",
      "\n",
      "    accuracy                           0.33     13162\n",
      "   macro avg       0.36      0.33      0.32     13162\n",
      "weighted avg       0.37      0.33      0.32     13162\n",
      "\n"
     ]
    }
   ],
   "source": [
    "print(classification_report(Y_train, knn_predictions))"
   ]
  },
  {
   "cell_type": "markdown",
   "id": "fb1ba7fa",
   "metadata": {},
   "source": [
    "#### The score obtained is better than Logostic Classifier but still very low ."
   ]
  },
  {
   "cell_type": "markdown",
   "id": "04d5b145",
   "metadata": {},
   "source": [
    "## Model 3\n",
    "### Decision Tree"
   ]
  },
  {
   "cell_type": "code",
   "execution_count": 122,
   "id": "1b72079a",
   "metadata": {},
   "outputs": [
    {
     "name": "stdout",
     "output_type": "stream",
     "text": [
      "Score training data : 0.7719191612216988\n",
      "Score test data : 0.08082649650562139\n"
     ]
    }
   ],
   "source": [
    "decision_tree_model = DecisionTreeClassifier()\n",
    "decision_tree_model.fit(X_train, Y_train) \n",
    "predictions = decision_tree_model.predict(X_train) \n",
    "print(f\"Score training data : {decision_tree_model.score(X_train, Y_train)}\")\n",
    "print(f\"Score test data : {decision_tree_model.score(X_test, Y_test)}\")"
   ]
  },
  {
   "cell_type": "code",
   "execution_count": 123,
   "id": "e0d5c682",
   "metadata": {},
   "outputs": [
    {
     "name": "stdout",
     "output_type": "stream",
     "text": [
      "              precision    recall  f1-score   support\n",
      "\n",
      "    aquarius       0.64      0.94      0.76      1007\n",
      "       aries       0.67      0.89      0.76      1050\n",
      "      cancer       0.69      0.87      0.77      1196\n",
      "   capricorn       0.73      0.81      0.77       966\n",
      "      gemini       0.77      0.79      0.78      1181\n",
      "         leo       0.81      0.78      0.80      1212\n",
      "       libra       0.80      0.75      0.78      1087\n",
      "      pisces       0.81      0.73      0.76      1080\n",
      " sagittarius       0.87      0.68      0.76      1049\n",
      "     scorpio       0.89      0.69      0.78      1067\n",
      "      taurus       0.91      0.68      0.78      1116\n",
      "       virgo       0.91      0.67      0.77      1151\n",
      "\n",
      "    accuracy                           0.77     13162\n",
      "   macro avg       0.79      0.77      0.77     13162\n",
      "weighted avg       0.79      0.77      0.77     13162\n",
      "\n"
     ]
    }
   ],
   "source": [
    "print(classification_report(Y_train,predictions))"
   ]
  },
  {
   "cell_type": "code",
   "execution_count": 131,
   "id": "4189be2b",
   "metadata": {},
   "outputs": [
    {
     "name": "stdout",
     "output_type": "stream",
     "text": [
      "1 0.08751139471285324\n",
      "2 0.08447280461865694\n",
      "3 0.07657247037374658\n",
      "4 0.07748404740200547\n",
      "5 0.07626861136432696\n",
      "6 0.0850805226374962\n",
      "7 0.08447280461865694\n",
      "8 0.08386508659981769\n",
      "9 0.08173807353388028\n",
      "10 0.08751139471285324\n",
      "11 0.08933454876937101\n",
      "12 0.0881191127316925\n",
      "13 0.08872683075053175\n",
      "14 0.09206927985414767\n",
      "15 0.08994226678821027\n",
      "16 0.09054998480704952\n",
      "17 0.08872683075053175\n",
      "18 0.08872683075053175\n",
      "19 0.08690367669401398\n",
      "20 0.08568824065633546\n",
      "21 0.08173807353388028\n",
      "22 0.08021877848678213\n",
      "23 0.08021877848678213\n",
      "24 0.0829535095715588\n",
      "25 0.07657247037374658\n",
      "26 0.08021877848678213\n",
      "27 0.0799149194773625\n",
      "28 0.07900334244910362\n",
      "29 0.07718018839258584\n",
      "30 0.08052263749620177\n",
      "31 0.0820419325432999\n",
      "32 0.07718018839258584\n",
      "33 0.07809176542084473\n",
      "34 0.07596475235490732\n",
      "35 0.07748404740200547\n",
      "36 0.08173807353388028\n",
      "37 0.07869948343968398\n",
      "38 0.08234579155271954\n",
      "39 0.07657247037374658\n",
      "40 0.07869948343968398\n",
      "41 0.0829535095715588\n",
      "42 0.08447280461865694\n",
      "43 0.08173807353388028\n",
      "44 0.07778790641142509\n",
      "45 0.08082649650562139\n",
      "46 0.07839562443026436\n",
      "47 0.07869948343968398\n",
      "48 0.08052263749620177\n",
      "49 0.07778790641142509\n",
      "50 0.07839562443026436\n",
      "51 0.07657247037374658\n",
      "52 0.08113035551504102\n",
      "53 0.0829535095715588\n",
      "54 0.07961106046794288\n",
      "55 0.07839562443026436\n",
      "56 0.08052263749620177\n",
      "57 0.08082649650562139\n",
      "58 0.08173807353388028\n"
     ]
    },
    {
     "data": {
      "text/plain": [
       "<AxesSubplot:>"
      ]
     },
     "execution_count": 131,
     "metadata": {},
     "output_type": "execute_result"
    },
    {
     "data": {
      "image/png": "[encoded data removed]",
      "text/plain": [
       "<Figure size 432x288 with 1 Axes>"
      ]
     },
     "metadata": {
      "needs_background": "light"
     },
     "output_type": "display_data"
    }
   ],
   "source": [
    "# Selecting best max Depth\n",
    "# print(decision_tree_model.tree_.max_depth)\n",
    "score = []\n",
    "for i in range(1,59):\n",
    "    decision_tree_model = DecisionTreeClassifier(max_depth = i)\n",
    "    decision_tree_model.fit(X_train, Y_train) \n",
    "    score.append(decision_tree_model.score(X_test, Y_test))\n",
    "    print(i,decision_tree_model.score(X_test, Y_test))\n",
    "    \n",
    "sns.lineplot(x=range(1,59),y=score)    "
   ]
  },
  {
   "cell_type": "markdown",
   "id": "958a9777",
   "metadata": {},
   "source": [
    "#### Decision trees have the best score but have the defect of over-fitting.\n",
    "\n",
    "To fix this with the max depth changed to 30"
   ]
  },
  {
   "cell_type": "code",
   "execution_count": 134,
   "id": "b4c232ae",
   "metadata": {},
   "outputs": [
    {
     "name": "stdout",
     "output_type": "stream",
     "text": [
      "Score training data : 0.5725573621030239\n",
      "Score test data : 0.07961106046794288\n",
      "              precision    recall  f1-score   support\n",
      "\n",
      "    aquarius       0.59      0.66      0.62      1007\n",
      "       aries       0.55      0.64      0.59      1050\n",
      "      cancer       0.54      0.64      0.58      1196\n",
      "   capricorn       0.67      0.57      0.61       966\n",
      "      gemini       0.55      0.57      0.56      1181\n",
      "         leo       0.50      0.62      0.55      1212\n",
      "       libra       0.73      0.55      0.62      1087\n",
      "      pisces       0.67      0.51      0.58      1080\n",
      " sagittarius       0.79      0.50      0.61      1049\n",
      "     scorpio       0.61      0.53      0.57      1067\n",
      "      taurus       0.69      0.51      0.59      1116\n",
      "       virgo       0.37      0.58      0.45      1151\n",
      "\n",
      "    accuracy                           0.57     13162\n",
      "   macro avg       0.60      0.57      0.58     13162\n",
      "weighted avg       0.60      0.57      0.58     13162\n",
      "\n"
     ]
    }
   ],
   "source": [
    "decision_tree_model = DecisionTreeClassifier(max_depth=30)\n",
    "decision_tree_model.fit(X_train, Y_train) \n",
    "predictions = decision_tree_model.predict(X_train) \n",
    "print(f\"Score training data : {decision_tree_model.score(X_train, Y_train)}\")\n",
    "print(f\"Score test data : {decision_tree_model.score(X_test, Y_test)}\")\n",
    "print(classification_report(Y_train,predictions))"
   ]
  },
  {
   "cell_type": "markdown",
   "id": "7c37a64e",
   "metadata": {},
   "source": [
    "### The score is still bad, to compensate for this over-adjustment we will use random forests."
   ]
  },
  {
   "cell_type": "code",
   "execution_count": 135,
   "id": "0358e986",
   "metadata": {},
   "outputs": [
    {
     "name": "stdout",
     "output_type": "stream",
     "text": [
      "              precision    recall  f1-score   support\n",
      "\n",
      "    aquarius       0.80      0.77      0.79      1007\n",
      "       aries       0.77      0.78      0.77      1050\n",
      "      cancer       0.76      0.79      0.77      1196\n",
      "   capricorn       0.77      0.75      0.76       966\n",
      "      gemini       0.78      0.76      0.77      1181\n",
      "         leo       0.79      0.80      0.79      1212\n",
      "       libra       0.77      0.77      0.77      1087\n",
      "      pisces       0.75      0.77      0.76      1080\n",
      " sagittarius       0.78      0.74      0.76      1049\n",
      "     scorpio       0.79      0.76      0.78      1067\n",
      "      taurus       0.80      0.77      0.78      1116\n",
      "       virgo       0.73      0.79      0.76      1151\n",
      "\n",
      "    accuracy                           0.77     13162\n",
      "   macro avg       0.77      0.77      0.77     13162\n",
      "weighted avg       0.77      0.77      0.77     13162\n",
      "\n"
     ]
    }
   ],
   "source": [
    "from sklearn.ensemble import RandomForestClassifier\n",
    "forest = RandomForestClassifier(random_state = 42)\n",
    "forest.fit(X_train, Y_train)\n",
    "prediction = forest.predict(X_train)\n",
    "print(classification_report(Y_train, prediction))"
   ]
  },
  {
   "cell_type": "code",
   "execution_count": 136,
   "id": "3f73b0a4",
   "metadata": {},
   "outputs": [
    {
     "name": "stdout",
     "output_type": "stream",
     "text": [
      "Score training data : 0.7719191612216988\n",
      "Score test data : 0.08751139471285324\n"
     ]
    }
   ],
   "source": [
    "print(f\"Score training data : {forest.score(X_train, Y_train)}\")\n",
    "print(f\"Score test data : {forest.score(X_test, Y_test)}\")"
   ]
  },
  {
   "cell_type": "markdown",
   "id": "5d63fe58",
   "metadata": {},
   "source": [
    "### Final model Resuls :\n",
    "#### We will use decision trees, because they provide the best results."
   ]
  },
  {
   "cell_type": "markdown",
   "id": "3d3cc4c6",
   "metadata": {},
   "source": [
    "# Conclusion\n",
    "\n",
    "The aim of the project was to predict the astrological signs of OkCupid users. For this we used several machine learning models, but the one we chose was the decision tree because of its relatively better performance than the others. It is necessary to note that for my study i only used a few variables. The results might have been better if i had chosen other variables or adjusted our models to make them more efficient."
   ]
  }
 ],
 "metadata": {
  "kernelspec": {
   "display_name": "Python 3",
   "language": "python",
   "name": "python3"
  },
  "language_info": {
   "codemirror_mode": {
    "name": "ipython",
    "version": 3
   },
   "file_extension": ".py",
   "mimetype": "text/x-python",
   "name": "python",
   "nbconvert_exporter": "python",
   "pygments_lexer": "ipython3",
   "version": "3.8.8"
  }
 },
 "nbformat": 4,
 "nbformat_minor": 5
}
