{
 "cells": [
  {
   "cell_type": "markdown",
   "id": "1dd98d87",
   "metadata": {},
   "source": [
    "# Startup Transformation\n",
    "\n",
    "In this project, we’ll work as a data analyst for a tech startup that is looking to improve its operations after a global pandemic has taken the world by storm.\n",
    "\n",
    "We will apply data transformation techniques to make better sense of the company’s data and help answer important questions such as:\n",
    "\n",
    "Is the company in good financial health?\n",
    "\n",
    "Does the company need to let go of any employees?\n",
    "\n",
    "Should the company allow employees to work from home permanently?"
   ]
  },
  {
   "cell_type": "code",
   "execution_count": 53,
   "id": "f8a9231f",
   "metadata": {},
   "outputs": [],
   "source": [
    "import pandas as pd\n",
    "from matplotlib import pyplot as plt\n",
    "import seaborn as sns\n",
    "from sklearn.preprocessing import StandardScaler\n",
    "import numpy as np\n",
    "from sklearn.preprocessing import PowerTransformer\n"
   ]
  },
  {
   "cell_type": "code",
   "execution_count": 2,
   "id": "e1a4676f",
   "metadata": {},
   "outputs": [
    {
     "data": {
      "text/html": [
       "<div>\n",
       "<style scoped>\n",
       "    .dataframe tbody tr th:only-of-type {\n",
       "        vertical-align: middle;\n",
       "    }\n",
       "\n",
       "    .dataframe tbody tr th {\n",
       "        vertical-align: top;\n",
       "    }\n",
       "\n",
       "    .dataframe thead th {\n",
       "        text-align: right;\n",
       "    }\n",
       "</style>\n",
       "<table border=\"1\" class=\"dataframe\">\n",
       "  <thead>\n",
       "    <tr style=\"text-align: right;\">\n",
       "      <th></th>\n",
       "      <th>Month</th>\n",
       "      <th>Revenue</th>\n",
       "      <th>Expenses</th>\n",
       "    </tr>\n",
       "  </thead>\n",
       "  <tbody>\n",
       "    <tr>\n",
       "      <th>0</th>\n",
       "      <td>1</td>\n",
       "      <td>1420000</td>\n",
       "      <td>510000</td>\n",
       "    </tr>\n",
       "    <tr>\n",
       "      <th>1</th>\n",
       "      <td>2</td>\n",
       "      <td>1200000</td>\n",
       "      <td>532000</td>\n",
       "    </tr>\n",
       "    <tr>\n",
       "      <th>2</th>\n",
       "      <td>3</td>\n",
       "      <td>1050000</td>\n",
       "      <td>551000</td>\n",
       "    </tr>\n",
       "    <tr>\n",
       "      <th>3</th>\n",
       "      <td>4</td>\n",
       "      <td>920000</td>\n",
       "      <td>612000</td>\n",
       "    </tr>\n",
       "    <tr>\n",
       "      <th>4</th>\n",
       "      <td>5</td>\n",
       "      <td>807000</td>\n",
       "      <td>628000</td>\n",
       "    </tr>\n",
       "  </tbody>\n",
       "</table>\n",
       "</div>"
      ],
      "text/plain": [
       "   Month  Revenue  Expenses\n",
       "0      1  1420000    510000\n",
       "1      2  1200000    532000\n",
       "2      3  1050000    551000\n",
       "3      4   920000    612000\n",
       "4      5   807000    628000"
      ]
     },
     "execution_count": 2,
     "metadata": {},
     "output_type": "execute_result"
    }
   ],
   "source": [
    "financial_data = pd.read_csv('financial_data.csv')\n",
    "financial_data.head()"
   ]
  },
  {
   "cell_type": "code",
   "execution_count": 3,
   "id": "350deff0",
   "metadata": {},
   "outputs": [],
   "source": [
    "Month = financial_data['Month']\n",
    "Revenue = financial_data['Revenue']\n",
    "Expenses = financial_data['Expenses']"
   ]
  },
  {
   "cell_type": "code",
   "execution_count": 10,
   "id": "eed644b0",
   "metadata": {},
   "outputs": [
    {
     "data": {
      "image/png": "[encoded data removed]",
      "text/plain": [
       "<Figure size 432x288 with 1 Axes>"
      ]
     },
     "metadata": {
      "needs_background": "light"
     },
     "output_type": "display_data"
    },
    {
     "data": {
      "image/png": "[encoded data removed]",
      "text/plain": [
       "<Figure size 432x288 with 1 Axes>"
      ]
     },
     "metadata": {
      "needs_background": "light"
     },
     "output_type": "display_data"
    }
   ],
   "source": [
    "sns.lineplot(x =Month,y=Revenue)\n",
    "plt.title('Analyzing Revenue')\n",
    "plt.show()\n",
    "plt.clf()\n",
    "sns.lineplot(x =Month,y=Expenses)\n",
    "plt.title('Analyzing Expenses')\n",
    "plt.show()"
   ]
  },
  {
   "cell_type": "markdown",
   "id": "a029356e",
   "metadata": {},
   "source": [
    "\n",
    "As shown, revenue seems to be quickly decreasing while expenses are increasing. If the current trend continues, expenses will soon surpass revenues, putting the company at risk.\n",
    "\n",
    "After we show this chart to the management team, they are alarmed. They conclude that expenses must be cut immediately and give we a new file to analyze called expenses.csv."
   ]
  },
  {
   "cell_type": "code",
   "execution_count": 11,
   "id": "ea12e844",
   "metadata": {},
   "outputs": [
    {
     "data": {
      "text/html": [
       "<div>\n",
       "<style scoped>\n",
       "    .dataframe tbody tr th:only-of-type {\n",
       "        vertical-align: middle;\n",
       "    }\n",
       "\n",
       "    .dataframe tbody tr th {\n",
       "        vertical-align: top;\n",
       "    }\n",
       "\n",
       "    .dataframe thead th {\n",
       "        text-align: right;\n",
       "    }\n",
       "</style>\n",
       "<table border=\"1\" class=\"dataframe\">\n",
       "  <thead>\n",
       "    <tr style=\"text-align: right;\">\n",
       "      <th></th>\n",
       "      <th>Expense</th>\n",
       "      <th>Proportion</th>\n",
       "    </tr>\n",
       "  </thead>\n",
       "  <tbody>\n",
       "    <tr>\n",
       "      <th>0</th>\n",
       "      <td>Salaries</td>\n",
       "      <td>0.62</td>\n",
       "    </tr>\n",
       "    <tr>\n",
       "      <th>1</th>\n",
       "      <td>Advertising</td>\n",
       "      <td>0.15</td>\n",
       "    </tr>\n",
       "    <tr>\n",
       "      <th>2</th>\n",
       "      <td>Office Rent</td>\n",
       "      <td>0.15</td>\n",
       "    </tr>\n",
       "    <tr>\n",
       "      <th>3</th>\n",
       "      <td>Equipment</td>\n",
       "      <td>0.03</td>\n",
       "    </tr>\n",
       "    <tr>\n",
       "      <th>4</th>\n",
       "      <td>Utilities</td>\n",
       "      <td>0.03</td>\n",
       "    </tr>\n",
       "  </tbody>\n",
       "</table>\n",
       "</div>"
      ],
      "text/plain": [
       "       Expense  Proportion\n",
       "0     Salaries        0.62\n",
       "1  Advertising        0.15\n",
       "2  Office Rent        0.15\n",
       "3    Equipment        0.03\n",
       "4    Utilities        0.03"
      ]
     },
     "execution_count": 11,
     "metadata": {},
     "output_type": "execute_result"
    }
   ],
   "source": [
    "expenses = pd.read_csv('expenses.csv')\n",
    "expenses.head()"
   ]
  },
  {
   "cell_type": "code",
   "execution_count": 20,
   "id": "8f499aef",
   "metadata": {},
   "outputs": [
    {
     "name": "stderr",
     "output_type": "stream",
     "text": [
      "<ipython-input-20-b8752232a63d>:2: MatplotlibDeprecationWarning: normalize=None does not normalize if the sum is less than 1 but this behavior is deprecated since 3.3 until two minor releases later. After the deprecation period the default value will be normalize=True. To prevent normalization pass normalize=False \n",
      "  plt.pie(x=expenses.Proportion,labels=expenses.Expense)\n"
     ]
    },
    {
     "data": {
      "image/png": "[encoded data removed]",
      "text/plain": [
       "<Figure size 432x432 with 1 Axes>"
      ]
     },
     "metadata": {},
     "output_type": "display_data"
    }
   ],
   "source": [
    "plt.figure(figsize=(6,6))\n",
    "plt.pie(x=expenses.Proportion,labels=expenses.Expense)\n",
    "plt.title('Expenses Distribution')\n",
    "plt.show()"
   ]
  },
  {
   "cell_type": "markdown",
   "id": "1a8644b5",
   "metadata": {},
   "source": [
    "\n",
    "It seems that Salaries, Advertising, and Office Rent make up most of the expenses, while the rest of the categories make up a small percentage.\n",
    "\n",
    "if the company wants to cut costs in a big way, Salaries make up a majority of the expenses, so this is the category that the company should focus on in order to cut costs in a meaningful way.\n",
    "\n",
    "Each employee at the company is assigned a productivity score based on their work. The management would like to keep the most highly productive employees and let go of the least productive employees."
   ]
  },
  {
   "cell_type": "code",
   "execution_count": 21,
   "id": "2b1983bc",
   "metadata": {},
   "outputs": [
    {
     "data": {
      "text/html": [
       "<div>\n",
       "<style scoped>\n",
       "    .dataframe tbody tr th:only-of-type {\n",
       "        vertical-align: middle;\n",
       "    }\n",
       "\n",
       "    .dataframe tbody tr th {\n",
       "        vertical-align: top;\n",
       "    }\n",
       "\n",
       "    .dataframe thead th {\n",
       "        text-align: right;\n",
       "    }\n",
       "</style>\n",
       "<table border=\"1\" class=\"dataframe\">\n",
       "  <thead>\n",
       "    <tr style=\"text-align: right;\">\n",
       "      <th></th>\n",
       "      <th>Name</th>\n",
       "      <th>Salary</th>\n",
       "      <th>Productivity</th>\n",
       "      <th>Commute Time</th>\n",
       "    </tr>\n",
       "  </thead>\n",
       "  <tbody>\n",
       "    <tr>\n",
       "      <th>0</th>\n",
       "      <td>Mason Pender</td>\n",
       "      <td>87902</td>\n",
       "      <td>29.91</td>\n",
       "      <td>16.79</td>\n",
       "    </tr>\n",
       "    <tr>\n",
       "      <th>1</th>\n",
       "      <td>Mia Rew</td>\n",
       "      <td>95672</td>\n",
       "      <td>49.91</td>\n",
       "      <td>44.48</td>\n",
       "    </tr>\n",
       "    <tr>\n",
       "      <th>2</th>\n",
       "      <td>Jalisa Kroenke</td>\n",
       "      <td>177864</td>\n",
       "      <td>78.00</td>\n",
       "      <td>19.40</td>\n",
       "    </tr>\n",
       "    <tr>\n",
       "      <th>3</th>\n",
       "      <td>Krystal Homeyer</td>\n",
       "      <td>186643</td>\n",
       "      <td>24.36</td>\n",
       "      <td>42.06</td>\n",
       "    </tr>\n",
       "    <tr>\n",
       "      <th>4</th>\n",
       "      <td>Kiana Wishart</td>\n",
       "      <td>167148</td>\n",
       "      <td>4.08</td>\n",
       "      <td>25.58</td>\n",
       "    </tr>\n",
       "  </tbody>\n",
       "</table>\n",
       "</div>"
      ],
      "text/plain": [
       "                Name  Salary  Productivity  Commute Time\n",
       "0     Mason Pender     87902         29.91         16.79\n",
       "1          Mia Rew     95672         49.91         44.48\n",
       "2   Jalisa Kroenke    177864         78.00         19.40\n",
       "3  Krystal Homeyer    186643         24.36         42.06\n",
       "4    Kiana Wishart    167148          4.08         25.58"
      ]
     },
     "execution_count": 21,
     "metadata": {},
     "output_type": "execute_result"
    }
   ],
   "source": [
    "employees = pd.read_csv('employees.csv')\n",
    "employees.head()"
   ]
  },
  {
   "cell_type": "code",
   "execution_count": 22,
   "id": "2aeadbfb",
   "metadata": {},
   "outputs": [
    {
     "data": {
      "text/html": [
       "<div>\n",
       "<style scoped>\n",
       "    .dataframe tbody tr th:only-of-type {\n",
       "        vertical-align: middle;\n",
       "    }\n",
       "\n",
       "    .dataframe tbody tr th {\n",
       "        vertical-align: top;\n",
       "    }\n",
       "\n",
       "    .dataframe thead th {\n",
       "        text-align: right;\n",
       "    }\n",
       "</style>\n",
       "<table border=\"1\" class=\"dataframe\">\n",
       "  <thead>\n",
       "    <tr style=\"text-align: right;\">\n",
       "      <th></th>\n",
       "      <th>Name</th>\n",
       "      <th>Salary</th>\n",
       "      <th>Productivity</th>\n",
       "      <th>Commute Time</th>\n",
       "    </tr>\n",
       "  </thead>\n",
       "  <tbody>\n",
       "    <tr>\n",
       "      <th>259</th>\n",
       "      <td>Wilber Rye</td>\n",
       "      <td>111647</td>\n",
       "      <td>0.06</td>\n",
       "      <td>49.42</td>\n",
       "    </tr>\n",
       "    <tr>\n",
       "      <th>92</th>\n",
       "      <td>Fredric Gandee</td>\n",
       "      <td>154469</td>\n",
       "      <td>0.24</td>\n",
       "      <td>22.48</td>\n",
       "    </tr>\n",
       "    <tr>\n",
       "      <th>252</th>\n",
       "      <td>Johnson Fordham</td>\n",
       "      <td>168684</td>\n",
       "      <td>1.46</td>\n",
       "      <td>22.39</td>\n",
       "    </tr>\n",
       "    <tr>\n",
       "      <th>178</th>\n",
       "      <td>Lilia Lemoine</td>\n",
       "      <td>167579</td>\n",
       "      <td>1.67</td>\n",
       "      <td>27.36</td>\n",
       "    </tr>\n",
       "    <tr>\n",
       "      <th>162</th>\n",
       "      <td>Hilma Laughton</td>\n",
       "      <td>85506</td>\n",
       "      <td>1.79</td>\n",
       "      <td>36.41</td>\n",
       "    </tr>\n",
       "  </tbody>\n",
       "</table>\n",
       "</div>"
      ],
      "text/plain": [
       "                  Name  Salary  Productivity  Commute Time\n",
       "259       Wilber Rye    111647          0.06         49.42\n",
       "92    Fredric Gandee    154469          0.24         22.48\n",
       "252  Johnson Fordham    168684          1.46         22.39\n",
       "178    Lilia Lemoine    167579          1.67         27.36\n",
       "162   Hilma Laughton     85506          1.79         36.41"
      ]
     },
     "execution_count": 22,
     "metadata": {},
     "output_type": "execute_result"
    }
   ],
   "source": [
    "# Notice that there is a Productivity column, which indicates the productivity score assigned to that employee.\n",
    "sorted_employees = employees.sort_values(by=['Productivity'])\n",
    "sorted_employees.head()"
   ]
  },
  {
   "cell_type": "markdown",
   "id": "775a2955",
   "metadata": {},
   "source": [
    "\n",
    "We should now see the employees with the lowest productivity scores at the top of the data frame.\n",
    "\n",
    "The company decides to let go of the 100 least productive employees."
   ]
  },
  {
   "cell_type": "code",
   "execution_count": 23,
   "id": "180551a7",
   "metadata": {},
   "outputs": [
    {
     "name": "stdout",
     "output_type": "stream",
     "text": [
      "                       Name  Salary  Productivity  Commute Time\n",
      "259            Wilber Rye    111647          0.06         49.42\n",
      "92         Fredric Gandee    154469          0.24         22.48\n",
      "252       Johnson Fordham    168684          1.46         22.39\n",
      "178         Lilia Lemoine    167579          1.67         27.36\n",
      "162        Hilma Laughton     85506          1.79         36.41\n",
      "..                      ...     ...           ...           ...\n",
      "43   Bernardo Klingenberg     55464         34.52         32.27\n",
      "186        Ashleigh Istre    178627         34.70         38.67\n",
      "288       Penni Kimbrough    142680         35.21         49.64\n",
      "269      Margot Mackenzie    114302         35.79         19.87\n",
      "218        Quinn Frampton     44000         36.36         34.12\n",
      "\n",
      "[100 rows x 4 columns]\n"
     ]
    }
   ],
   "source": [
    "employees_cut = sorted_employees.head(100)\n",
    "print(employees_cut)"
   ]
  },
  {
   "cell_type": "markdown",
   "id": "2dcc76c8",
   "metadata": {},
   "source": [
    "Unfortunately, this batch of employees won’t be so lucky.\n",
    "\n",
    "# Commute Times and Log Transformation\n",
    "\n",
    "\n",
    "The COO (Chief Operating Officer) is debating whether to allow employees to continue to work from home post-pandemic.\n",
    "\n",
    "He first wants to take a look at roughly how long the average commute time is for employees at the company. He asks for our help to analyze this data.\n"
   ]
  },
  {
   "cell_type": "code",
   "execution_count": 50,
   "id": "22bef906",
   "metadata": {},
   "outputs": [
    {
     "name": "stdout",
     "output_type": "stream",
     "text": [
      "Average Commute time is 33.44169999999999 min\n",
      "Median Commute time is 31.060000000000002 min\n"
     ]
    }
   ],
   "source": [
    "average = np.mean(employees['Commute Time'])\n",
    "median = np.median(employees['Commute Time'])\n",
    "\n",
    "print(f'Average Commute time is {average} min')\n",
    "print(f'Median Commute time is {median} min')"
   ]
  },
  {
   "cell_type": "code",
   "execution_count": 52,
   "id": "956b5de8",
   "metadata": {},
   "outputs": [
    {
     "data": {
      "text/plain": [
       "Text(0.5, 1.0, 'Shape of the commute time')"
      ]
     },
     "execution_count": 52,
     "metadata": {},
     "output_type": "execute_result"
    },
    {
     "data": {
      "image/png": "[encoded data removed]",
      "text/plain": [
       "<Figure size 432x288 with 1 Axes>"
      ]
     },
     "metadata": {
      "needs_background": "light"
     },
     "output_type": "display_data"
    }
   ],
   "source": [
    "sns.histplot(employees['Commute Time'])\n",
    "plt.title('Shape of the commute time')"
   ]
  },
  {
   "cell_type": "markdown",
   "id": "c80a0fd6",
   "metadata": {},
   "source": [
    "In this project, We performed data analysis to help a management team answer important questions about the status of the company during a difficult time.\n",
    "\n",
    "We did this by analyzing data sets and applying common data transformation techniques. "
   ]
  }
 ],
 "metadata": {
  "kernelspec": {
   "display_name": "Python 3",
   "language": "python",
   "name": "python3"
  },
  "language_info": {
   "codemirror_mode": {
    "name": "ipython",
    "version": 3
   },
   "file_extension": ".py",
   "mimetype": "text/x-python",
   "name": "python",
   "nbconvert_exporter": "python",
   "pygments_lexer": "ipython3",
   "version": "3.8.8"
  }
 },
 "nbformat": 4,
 "nbformat_minor": 5
}
