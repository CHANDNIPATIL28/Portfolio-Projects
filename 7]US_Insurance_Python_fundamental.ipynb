{
 "cells": [
  {
   "cell_type": "markdown",
   "metadata": {},
   "source": [
    "# U.S. Medical Insurance Costs\n",
    "\n",
    "In this project, a **CSV** file with medical insurance costs will be investigated using Python fundamentals. Our goal with this project will be to analyze various attributes within **insurance.csv** to learn more about the patient information in the file and gain insight into potential use cases for the dataset."
   ]
  },
  {
   "cell_type": "code",
   "execution_count": 8,
   "metadata": {},
   "outputs": [],
   "source": [
    "# import csv library\n",
    "import csv"
   ]
  },
  {
   "cell_type": "markdown",
   "metadata": {},
   "source": [
    "To start, all necessary libraries must be imported. For this project the only library needed is the `csv` library in order to work with the **insurance.csv** data. There are other potential libraries that could help with this project; however, for this analysis, using just the `csv` library will suffice."
   ]
  },
  {
   "cell_type": "markdown",
   "metadata": {},
   "source": [
    "The next step is to look through **insurance.csv** in order to get aquanted with the data. The following aspects of the data file will be checked in order to plan out how to import the data into a Python file:\n",
    "* The names of columns and rows\n",
    "* Any noticeable missing data\n",
    "* Types of values (numerical vs. categorical)"
   ]
  },
  {
   "cell_type": "code",
   "execution_count": 9,
   "metadata": {},
   "outputs": [],
   "source": [
    "#Create empty lists for the various attributes in insurance.csv\n",
    "ages = []\n",
    "sexes = []\n",
    "bmis = []\n",
    "num_children = []\n",
    "smoker_statuses = []\n",
    "regions = []\n",
    "insurance_charges = []"
   ]
  },
  {
   "cell_type": "markdown",
   "metadata": {},
   "source": [
    "**insurance.csv** contains the following columns:\n",
    "* Patient Age\n",
    "* Patient Sex \n",
    "* Patient BMI\n",
    "* Patient Number of Children\n",
    "* Patient Smoking Status\n",
    "* Patient U.S Geopraphical Region\n",
    "* Patient Yearly Medical Insurance Cost\n",
    "\n",
    "There are no signs of missing data. To store this information, seven empty lists will be created hold each individual column of data from **insurance.csv**.\n"
   ]
  },
  {
   "cell_type": "code",
   "execution_count": 10,
   "metadata": {},
   "outputs": [],
   "source": [
    "# helper function to load csv data\n",
    "def load_list_data(lst, csv_file, column_name):\n",
    "    # open csv file\n",
    "    with open(csv_file) as csv_info:\n",
    "        # read the data from the csv file\n",
    "        csv_dict = csv.DictReader(csv_info)\n",
    "        # loop through the data in each row of the csv \n",
    "        for row in csv_dict:\n",
    "            # add the data from each row to a list\n",
    "            lst.append(row[column_name])\n",
    "        # return the list\n",
    "        return lst"
   ]
  },
  {
   "cell_type": "markdown",
   "metadata": {},
   "source": [
    "The helper function above was created to make loading data into the lists as efficient as possible. Without this function, one would have to open **insurance.csv** and rewrite the `for` loop seven times; however, with this function, one can simply call `load_list_data()` each time as shown below."
   ]
  },
  {
   "cell_type": "code",
   "execution_count": 1,
   "metadata": {
    "scrolled": true
   },
   "outputs": [],
   "source": [
    "# look at the data in insurance_csv_dict\n",
    "\n",
    "# load_list_data(ages, 'insurance.csv', 'age')\n",
    "# load_list_data(sexes, 'insurance.csv', 'sex')\n",
    "# load_list_data(bmis, 'insurance.csv', 'bmi')\n",
    "# load_list_data(num_children, 'insurance.csv', 'children')\n",
    "# load_list_data(smoker_statuses, 'insurance.csv', 'smoker')\n",
    "# load_list_data(regions, 'insurance.csv', 'region')\n",
    "# load_list_data(insurance_charges, 'insurance.csv', 'charges')\n",
    "\n",
    "# In Github if we try to look at all these data then output makes the projrct cloged and hence I am commenting them"
   ]
  },
  {
   "cell_type": "markdown",
   "metadata": {},
   "source": [
    "Now that all the data from **insurance.csv** neatly organized into labeled lists, the analysis can be started. This is where we must plan out what to investigate and how to perform the analysis. There are many aspects of the data that could be looked into. The following operations will be implemented:\n",
    "* find average age of the patients\n",
    "* return the number of males vs. females counted in the dataset\n",
    "* find geographical location of the patients\n",
    "* return the average yearly medical charges of the patients\n",
    "* creating a dictionary that contains all patient information\n",
    "\n",
    "To perform these inspections, a class called `PatientsInfo` has been built out which contains fives methods:\n",
    "* `analyze_ages()`\n",
    "* `analyze_sexes()`\n",
    "* `unique_regions()`\n",
    "* `average_charges()`\n",
    "* `create_dictionary()`\n",
    "\n",
    "We will build the class with these methods Below."
   ]
  },
  {
   "cell_type": "code",
   "execution_count": 12,
   "metadata": {},
   "outputs": [],
   "source": [
    "class PatientsInfo:\n",
    "    # init method that takes in each list parameter\n",
    "    def __init__(self, patients_ages, patients_sexes, patients_bmis, patients_num_children, \n",
    "                 patients_smoker_statuses, patients_regions, patients_charges):\n",
    "        self.patients_ages = patients_ages\n",
    "        self.patients_sexes = patients_sexes\n",
    "        self.patients_bmis = patients_bmis\n",
    "        self.patients_num_children = patients_num_children\n",
    "        self.patients_smoker_statuses = patients_smoker_statuses\n",
    "        self.patients_regions = patients_regions\n",
    "        self.patients_charges = patients_charges\n",
    "\n",
    "    # method that calculates the average ages of the patients in insurance.csv\n",
    "    def analyze_ages(self):\n",
    "        # initialize total age at zero\n",
    "        total_age = 0\n",
    "        # iterate through all ages in the ages list\n",
    "        for age in self.patients_ages:\n",
    "            # sum of the total age\n",
    "            total_age += int(age)\n",
    "        # return total age divided by the length of the patient list\n",
    "        return (\"Average Patient Age: \" + str(round(total_age/len(self.patients_ages), 2)) + \" years\")\n",
    "\n",
    "    # method that calculates the number of males and females in insurance.csv\n",
    "    def analyze_sexes(self):\n",
    "        # initialize number of males and females to zero\n",
    "        females = 0\n",
    "        males = 0\n",
    "        # iterate through each sex in the sexes list\n",
    "        for sex in self.patients_sexes:\n",
    "            # if female add to female variable\n",
    "            if sex == 'female':\n",
    "                females += 1\n",
    "            # if male add to male variable\n",
    "            elif sex == 'male':\n",
    "                males += 1\n",
    "        # print out the number of each\n",
    "        print(\"Count for female: \", females)\n",
    "        print(\"Count for male: \", males)\n",
    "\n",
    "    # method to find each unique region patients are from\n",
    "    def unique_regions(self):\n",
    "        # initialize empty list\n",
    "        unique_regions = []\n",
    "        # iterate through each region in regions list\n",
    "        for region in self.patients_regions:\n",
    "            # if the region is not already in the unique regions list\n",
    "            # then add it to the unique regions list\n",
    "            if region not in unique_regions: \n",
    "                unique_regions.append(region)\n",
    "        # return unique regions list\n",
    "        return unique_regions\n",
    "\n",
    "    # method to find average yearly medical charges for patients in insurance.csv\n",
    "    def average_charges(self):\n",
    "        # initialize total_charges variable\n",
    "        total_charges = 0\n",
    "        # iterate through charges in patients charges list\n",
    "        # add each charge to total_charge\n",
    "        for charge in self.patients_charges:\n",
    "            total_charges += float(charge)\n",
    "        # return the average charges rounded to the hundredths place\n",
    "        return (\"Average Yearly Medical Insurance Charges: \" +  \n",
    "                str(round(total_charges/len(self.patients_charges), 2)) + \" dollars.\")\n",
    "    \n",
    "    # method to create dictionary with all patients information\n",
    "    def create_dictionary(self):\n",
    "        self.patients_dictionary = {}\n",
    "        self.patients_dictionary[\"age\"] = [int(age) for age in self.patients_ages]\n",
    "        self.patients_dictionary[\"sex\"] = self.patients_sexes\n",
    "        self.patients_dictionary[\"bmi\"] = self.patients_bmis\n",
    "        self.patients_dictionary[\"children\"] = self.patients_num_children\n",
    "        self.patients_dictionary[\"smoker\"] = self.patients_smoker_statuses\n",
    "        self.patients_dictionary[\"regions\"] = self.patients_regions\n",
    "        self.patients_dictionary[\"charges\"] = self.patients_charges\n",
    "        return self.patients_dictionary"
   ]
  },
  {
   "cell_type": "markdown",
   "metadata": {},
   "source": [
    "The next step is to create an instance of the class called `patient_info`. With this instance, each method can be used to see the results of the analysis."
   ]
  },
  {
   "cell_type": "code",
   "execution_count": 13,
   "metadata": {},
   "outputs": [],
   "source": [
    "patient_info = PatientsInfo(ages, sexes, bmis, num_children, smoker_statuses, regions, insurance_charges)"
   ]
  },
  {
   "cell_type": "code",
   "execution_count": 14,
   "metadata": {
    "scrolled": false
   },
   "outputs": [
    {
     "data": {
      "text/plain": [
       "'Average Patient Age: 39.21 years'"
      ]
     },
     "execution_count": 14,
     "metadata": {},
     "output_type": "execute_result"
    }
   ],
   "source": [
    "patient_info.analyze_ages()"
   ]
  },
  {
   "cell_type": "markdown",
   "metadata": {},
   "source": [
    "The average age of the patients in **insurance.csv** is about 39 years old. This is important to check in order to ensure the data in **insurance.csv** is representative for a broader population. If it is decided to use the dataset to make inferences about other populations, the data must abundant and broad enough for such use cases.\n",
    "\n",
    "A further analysis would have to be done to make sure the range and standard deviation of the patient age group in **insurance.csv** is indicative of a random sampling of individuals. "
   ]
  },
  {
   "cell_type": "code",
   "execution_count": 16,
   "metadata": {},
   "outputs": [
    {
     "name": "stdout",
     "output_type": "stream",
     "text": [
      "Count for female:  662\n",
      "Count for male:  676\n"
     ]
    }
   ],
   "source": [
    "patient_info.analyze_sexes()"
   ]
  },
  {
   "cell_type": "markdown",
   "metadata": {},
   "source": [
    "The next step of the analysis is to check the balance of males vs. females in **insurance.csv**. Similar to above, it is important to check that this dataset is representative of a broader population of individuals. If a person were to use this dataset to create a classification model, it would be imperitive to make sure that the attributes are balanced.\n",
    "\n",
    "Quite often in the real-world, data is not balanced; this is an issue because it can lead to statistical issues when performing analysis. This is something that will be explored further in future portfolio projects!"
   ]
  },
  {
   "cell_type": "code",
   "execution_count": 17,
   "metadata": {},
   "outputs": [
    {
     "data": {
      "text/plain": [
       "['southwest', 'southeast', 'northwest', 'northeast']"
      ]
     },
     "execution_count": 17,
     "metadata": {},
     "output_type": "execute_result"
    }
   ],
   "source": [
    "patient_info.unique_regions()"
   ]
  },
  {
   "cell_type": "markdown",
   "metadata": {},
   "source": [
    "There are four unique geographical regions in this dataset, and it is important to note that all the patients come from the United States."
   ]
  },
  {
   "cell_type": "code",
   "execution_count": 18,
   "metadata": {},
   "outputs": [
    {
     "data": {
      "text/plain": [
       "'Average Yearly Medical Insurance Charges: 13270.42 dollars.'"
      ]
     },
     "execution_count": 18,
     "metadata": {},
     "output_type": "execute_result"
    }
   ],
   "source": [
    "patient_info.average_charges()"
   ]
  },
  {
   "cell_type": "markdown",
   "metadata": {},
   "source": [
    "The average yearly medical insurance charge per individual is 13270 US dollars. Some further analysis could be done to see what patient attributes contribute most strongly to low and/or high medical insurance charges. For example, one could check if patient age correlates with the amount of money they spend yearly."
   ]
  },
  {
   "cell_type": "code",
   "execution_count": null,
   "metadata": {
    "scrolled": true
   },
   "outputs": [],
   "source": []
  },
  {
   "cell_type": "code",
   "execution_count": null,
   "metadata": {},
   "outputs": [],
   "source": []
  }
 ],
 "metadata": {
  "kernelspec": {
   "display_name": "Python 3",
   "language": "python",
   "name": "python3"
  },
  "language_info": {
   "codemirror_mode": {
    "name": "ipython",
    "version": 3
   },
   "file_extension": ".py",
   "mimetype": "text/x-python",
   "name": "python",
   "nbconvert_exporter": "python",
   "pygments_lexer": "ipython3",
   "version": "3.8.8"
  }
 },
 "nbformat": 4,
 "nbformat_minor": 4
}
